{
  "cells": [
    {
      "cell_type": "markdown",
      "metadata": {},
      "source": [
        "# ALGOTRADING - ASX Equity Return Prediction Demo\n",
        "\n",
        "**Author:** Harrison White  \n",
        "**Project:** Production-grade algorithmic trading platform for ASX equities  \n",
        "**Assignment:** A2/A3 - Machine Learning for Trading\n",
        "\n",
        "This notebook demonstrates a practical ML system that predicts short-horizon excess returns for ASX-listed equities using LSTM neural networks with proper temporal validation and quantitative evaluation.\n"
      ]
    }
  ],
  "metadata": {
    "language_info": {
      "name": "python"
    }
  },
  "nbformat": 4,
  "nbformat_minor": 2
}
